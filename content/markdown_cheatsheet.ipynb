{
    "metadata": {
        "kernelspec": {
            "name": "SQL",
            "display_name": "SQL",
            "language": "sql"
        },
        "language_info": {
            "name": "sql",
            "version": ""
        }
    },
    "nbformat_minor": 2,
    "nbformat": 4,
    "cells": [
        {
            "cell_type": "markdown",
            "source": [
                "![](markdown.png)\n",
                "\n",
                "# Markdown Cheatsheet\n",
                "\n",
                "> Azure Data Studio generally uses the **GitHub** flavor of Markdown\n",
                "\n",
                "Markdown is both simple and powerful. For example our book <strong>Hands-on Azure Data Studio</strong> was written completely in markdown [VSCode Editor](resources/book_in_vscode.png):\n",
                "\n",
                "![](book1_small.png)\n",
                "\n",
                "## At the end of this Webinar we'll tell you how to get a free copy!\n",
                ""
            ],
            "metadata": {
                "azdata_cell_guid": "50f7bf16-7ce8-4c26-b673-9f3d053fc90c"
            }
        },
        {
            "cell_type": "markdown",
            "source": [
                "# Heading 1\r\n",
                "## Heading 2\r\n",
                "### Heading 3\r\n",
                "#### Heading 4\r\n",
                "##### Heading 5\r\n",
                "###### Heading 6"
            ],
            "metadata": {
                "azdata_cell_guid": "3c54029e-a134-4d2a-a922-9fe5ef05235d"
            }
        },
        {
            "cell_type": "markdown",
            "source": [
                "# Emphasis\r\n",
                "\r\n",
                "Emphasis, aka italics, with *asterisks* or _underscores_.\r\n",
                "\r\n",
                "Strong emphasis, aka bold, with **asterisks** or __underscores__.\r\n",
                "\r\n",
                "Combined emphasis with **asterisks and _underscores_**.\r\n",
                "\r\n",
                "Strikethrough uses two tildes. ~~Scratch this.~~"
            ],
            "metadata": {
                "azdata_cell_guid": "c3885521-8fed-4c9e-b3b6-2887d1af4a1e"
            }
        },
        {
            "cell_type": "markdown",
            "source": [
                "# Lists\r\n",
                "\r\n",
                "1. First ordered list item\r\n",
                "2. Next item\r\n",
                "2. last item (notice number 2 reused)\r\n",
                "    1. sub-item\r\n",
                "    3. next sub-item\r\n",
                "\r\n",
                "* Unordered sub-list first item\r\n",
                "- Next item (can use astrisk, minus, or plus character)\r\n",
                "    * first sub-item \r\n",
                "    + next sub-item\r\n",
                "\r\n",
                ""
            ],
            "metadata": {
                "azdata_cell_guid": "5a9153ef-0c77-482f-bc8b-e20b0d40bea5"
            }
        },
        {
            "cell_type": "markdown",
            "source": [
                "# Links\r\n",
                "\r\n",
                "[BI Tracks](http://www.bitracks.com)\r\n",
                "\r\n",
                "## Additional References\r\n",
                "\r\n",
                "[adam-p markdown-here](https://github.com/adam-p/markdown-here/wiki/Markdown-Cheatsheet)\r\n",
                "\r\n",
                "[markdownguide.org](https://www.markdownguide.org/cheat-sheet/)\r\n",
                "\r\n",
                "[GitHub Guide](https://guides.github.com/pdfs/markdown-cheatsheet-online.pdf)"
            ],
            "metadata": {
                "azdata_cell_guid": "dd35f9e7-8770-48c3-a1cd-f5d8d4326e67"
            }
        }
    ]
}