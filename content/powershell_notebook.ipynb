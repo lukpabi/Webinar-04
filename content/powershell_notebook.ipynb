{
    "metadata": {
        "kernelspec": {
            "name": "powershell",
            "display_name": "PowerShell",
            "language": "powershell"
        },
        "language_info": {
            "name": "powershell",
            "codemirror_mode": "shell",
            "mimetype": "text/x-sh",
            "file_extension": ".ps1"
        }
    },
    "nbformat_minor": 2,
    "nbformat": 4,
    "cells": [
        {
            "cell_type": "markdown",
            "source": [
                "![](powershell.png)\r\n",
                "\r\n",
                "# PowerShell Notebook"
            ],
            "metadata": {
                "azdata_cell_guid": "33840e5b-b2fd-4348-a91c-1e2eb9710024"
            }
        },
        {
            "cell_type": "markdown",
            "source": [
                "## Get PowerShell Version"
            ],
            "metadata": {
                "azdata_cell_guid": "8049fb56-8be0-4f82-b54d-797540e6de74"
            }
        },
        {
            "cell_type": "code",
            "source": [
                "$Version = get-host | select-object version\r\n",
                "\r\n",
                "$Version"
            ],
            "metadata": {
                "azdata_cell_guid": "12debdd1-cf55-43ac-adbe-87da6aec4715",
                "tags": []
            },
            "outputs": [],
            "execution_count": null
        },
        {
            "cell_type": "markdown",
            "source": [
                "## Reference Variable"
            ],
            "metadata": {
                "azdata_cell_guid": "03234e04-87c0-4fab-9f8d-5612655cfdc0"
            }
        },
        {
            "cell_type": "code",
            "source": [
                "$Version"
            ],
            "metadata": {
                "azdata_cell_guid": "3a35d5bf-b121-4f52-ad07-eb5a1bbc6994"
            },
            "outputs": [],
            "execution_count": null
        }
    ]
}