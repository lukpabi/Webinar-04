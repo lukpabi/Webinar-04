{
    "metadata": {
        "kernelspec": {
            "name": "SQL",
            "display_name": "SQL",
            "language": "sql"
        },
        "language_info": {
            "name": "sql",
            "version": ""
        }
    },
    "nbformat_minor": 2,
    "nbformat": 4,
    "cells": [
        {
            "cell_type": "markdown",
            "source": [
                "![](small_logo.png)\n",
                "\n",
                "# Webinar Series for Azure Data Studio\n",
                "\n",
                "## 11 February 2021\n",
                "\n",
                "![](azure_data_studio_small.png)\n",
                "\n",
                "# Today's Topics\n",
                "\n",
                "> **Outline**\n",
                "> \n",
                "> - **Using Files, Folders, Workspaces**\n",
                "> - **Compatibility with VS Code**\n",
                "> - **GitHub Integration**\n",
                "\n",
                "# Using Files, Folders and Workspaces\n",
                "\n",
                "The differences between: files, folders and workspaces\n",
                "\n",
                "- Files - files can be opened, edited, and saved in Azure Data Studio, much like the experience with SQL Server Management Studio.\n",
                "    \n",
                "- Folders - when working at the folder level, all files within a folder are viewable in Azure Data Studio.\n",
                "    \n",
                "- Workspaces - multiple folders can be viewed when creating a workspace.\n",
                "    \n",
                "- This Presentation from GitHub [lukpabi/Webinar-04](https://github.com/lukpabi/Webinar-04)\n",
                "    \n",
                "- [Markdown Cheatsheet](markdown_cheatsheet.ipynb) - A quick reference of Markdown syntax\n",
                "    \n",
                "\n",
                "Ideally these should work both...\n",
                "\n",
                "- In Azure Data Studio\n",
                "- On GitHub\n",
                "\n",
                "> For best results on GitHub, place Image in same folder location as the Referencing (.ipynb / .md) File\n",
                "\n",
                "# GitHub Integration\n",
                "\n",
                "- Why GitHub?\n",
                "    - Source Control\n",
                "    - Solution Sharing\n",
                "    - Collaboration with other Developers\n",
                "- Creating a GitHub Repository\n",
                "- Linking your ADS Project with GitHub\n",
                "\n",
                "> ADS Notebook Template example"
            ],
            "metadata": {
                "azdata_cell_guid": "d737a79e-73c7-4f13-bc41-6272e392ca90",
                "language": "markdown"
            }
        }
    ]
}