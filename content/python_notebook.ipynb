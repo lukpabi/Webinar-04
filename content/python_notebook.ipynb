{
    "metadata": {
        "kernelspec": {
            "name": "python3",
            "display_name": "Python 3",
            "language": "python"
        },
        "language_info": {
            "name": "python",
            "version": "3.9.1",
            "mimetype": "text/x-python",
            "codemirror_mode": {
                "name": "ipython",
                "version": 3
            },
            "pygments_lexer": "ipython3",
            "nbconvert_exporter": "python",
            "file_extension": ".py"
        }
    },
    "nbformat_minor": 2,
    "nbformat": 4,
    "cells": [
        {
            "cell_type": "markdown",
            "source": [
                "![](python.png)\r\n",
                "\r\n",
                "# Python Notebook"
            ],
            "metadata": {
                "azdata_cell_guid": "33840e5b-b2fd-4348-a91c-1e2eb9710024"
            }
        },
        {
            "cell_type": "markdown",
            "source": [
                "## Set Variables"
            ],
            "metadata": {
                "azdata_cell_guid": "e3e52eb8-3a75-4849-8956-ed631c0a0487"
            }
        },
        {
            "cell_type": "code",
            "source": [
                "a = 1\r\n",
                "b = 2"
            ],
            "metadata": {
                "azdata_cell_guid": "b0e7ed38-c2f4-4f89-9b17-4dfbbb46df2e"
            },
            "outputs": [],
            "execution_count": 3
        },
        {
            "cell_type": "markdown",
            "source": [
                "## Get Variables"
            ],
            "metadata": {
                "azdata_cell_guid": "b38c6825-311c-42d5-a15e-c8f10ed91442"
            }
        },
        {
            "cell_type": "code",
            "source": [
                "print(a/b)"
            ],
            "metadata": {
                "azdata_cell_guid": "52df5e58-6308-4f26-944c-9f8cfa0a3e03"
            },
            "outputs": [
                {
                    "name": "stdout",
                    "text": "0.5\n",
                    "output_type": "stream"
                }
            ],
            "execution_count": 4
        }
    ]
}