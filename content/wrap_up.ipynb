{
    "metadata": {
        "kernelspec": {
            "name": "SQL",
            "display_name": "SQL",
            "language": "sql"
        },
        "language_info": {
            "name": "sql",
            "version": ""
        }
    },
    "nbformat_minor": 2,
    "nbformat": 4,
    "cells": [
        {
            "cell_type": "markdown",
            "source": [
                "![](next_steps.png)\n",
                "\n",
                "## Webinar Series for Notebooks - Sharing\n",
                "\n",
                "## Thanks for attending!"
            ],
            "metadata": {
                "azdata_cell_guid": "fcff36e4-3482-4c88-bc1c-3976d77ec51e"
            }
        },
        {
            "cell_type": "markdown",
            "source": [
                "# Next Steps\n",
                "\n",
                "- Download this Presentation from GitHub [Jim-BITracks/Webinar-03](https://github.com/Jim-BITracks/Webinar-03)\n",
                "- Contact **Conor** at [cmuntin@bitracks.com](mailto:cmuntin@bitracks.com) and ask for a free copy of our book: [Hands-on Azure Data Studio](https://leanpub.com/hands-on-ads)\n",
                "- Watch our \"Azure Data Studio\" [Videos on Youtube](https://www.youtube.com/channel/UCNtZMOo_tPzRuRL7PkQJMyw/videos)\n",
                "- Discover our ELT/ETL products by visiting our [Website](https://www.bitracks.com/)"
            ],
            "metadata": {
                "azdata_cell_guid": "06edc6a0-2f4e-43a7-9bbe-1fd3187305ec"
            }
        }
    ]
}