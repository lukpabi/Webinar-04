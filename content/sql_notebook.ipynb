{
    "metadata": {
        "kernelspec": {
            "name": "SQL",
            "display_name": "SQL",
            "language": "sql"
        },
        "language_info": {
            "name": "sql",
            "version": ""
        }
    },
    "nbformat_minor": 2,
    "nbformat": 4,
    "cells": [
        {
            "cell_type": "markdown",
            "source": [
                "![](sql.png)\r\n",
                "\r\n",
                "# SQL Notebook - Using Variables between Code Cells\r\n",
                "\r\n",
                "- Code cells cannot directly reference each other\r\n",
                "- Temporary Tables can be shared\r\n",
                "- Snippet Example for Sharing Variables\r\n",
                ""
            ],
            "metadata": {
                "azdata_cell_guid": "d737a79e-73c7-4f13-bc41-6272e392ca90",
                "language": "markdown"
            }
        },
        {
            "cell_type": "markdown",
            "source": [
                "## Creating Temp Table Based Variables (Run Values)"
            ],
            "metadata": {
                "azdata_cell_guid": "d4a7b2f4-657c-4463-919b-2d4043232074"
            }
        },
        {
            "cell_type": "code",
            "source": [
                "DROP TABLE IF EXISTS #run_values; CREATE TABLE #run_values ([key] VARCHAR(64) PRIMARY KEY, [value] NVARCHAR(MAX))\r\n",
                "\r\n",
                "INSERT #run_values VALUES ('var1', 'Hello')"
            ],
            "metadata": {
                "azdata_cell_guid": "588e07eb-9ad2-47f8-8446-bc76cee5e69e",
                "tags": []
            },
            "outputs": [],
            "execution_count": null
        },
        {
            "cell_type": "markdown",
            "source": [
                "## Retrieving Temp Table Based Variables"
            ],
            "metadata": {
                "azdata_cell_guid": "5f9d43c8-535e-482d-9e73-edc7dbabf3bf"
            }
        },
        {
            "cell_type": "code",
            "source": [
                "DECLARE @var1 VARCHAR(10); SELECT @var1 = [value] FROM #run_values WHERE [key] = 'var1'\r\n",
                "\r\n",
                "print @var1"
            ],
            "metadata": {
                "azdata_cell_guid": "cfeb80eb-18e4-40fa-98aa-41511b00ff9b",
                "tags": []
            },
            "outputs": [],
            "execution_count": null
        },
        {
            "cell_type": "markdown",
            "source": [
                "## Snippet Code\r\n",
                "\r\n",
                "> Place in sql.json (under preferences)\r\n",
                "\r\n",
                "``` json\r\n",
                "{\r\n",
                "  \"CreateRunValuesTable\": {\r\n",
                "    \"prefix\": \"CreateRunValuesTable\",\r\n",
                "    \"body\": \"DROP TABLE IF EXISTS #run_values; CREATE TABLE #run_values ([key] VARCHAR(64) PRIMARY KEY, [value] NVARCHAR(MAX))\",\r\n",
                "    \"description\": \"Creates a Temp Table to hold SQL Variables for Notebooks\"\r\n",
                "  },\r\n",
                "  \"SetRunValueInTable\": {\r\n",
                "    \"prefix\": \"SetRunValueInTable\",\r\n",
                "    \"body\": \"INSERT #run_values VALUES ('${var}', 'Hello')\",\r\n",
                "    \"description\": \"Sets a Variable Value in the #run_values Temp Table\"\r\n",
                "  },\r\n",
                "  \"GetRunValueInTable\": {\r\n",
                "    \"prefix\": \"GetRunValueInTable\",\r\n",
                "    \"body\": \"DECLARE @${var} VARCHAR(10); SELECT @${var} = [value] FROM #run_values WHERE [key] = '${var}'\",\r\n",
                "    \"description\": \"Returns a Variable Value from the #run_values Temp Table\"\r\n",
                "  }\r\n",
                "}\r\n",
                "```"
            ],
            "metadata": {
                "azdata_cell_guid": "2d9ad9fd-eb38-4ef2-b6dd-e31fb8385e81"
            }
        }
    ]
}